{
 "cells": [
  {
   "cell_type": "code",
   "execution_count": 1,
   "metadata": {},
   "outputs": [],
   "source": [
    "# Add anna to the path\n",
    "import os\n",
    "import sys\n",
    "module_path = os.path.abspath(os.path.join('../../anna'))\n",
    "if module_path not in sys.path:\n",
    "    sys.path.append(module_path)\n",
    "\n",
    "DATA_DIR = \"../../data\""
   ]
  },
  {
   "cell_type": "code",
   "execution_count": 2,
   "metadata": {},
   "outputs": [],
   "source": [
    "import matplotlib.pyplot as plt\n",
    "import pandas as pd\n",
    "import numpy as np\n",
    "import dataset.reuters21578.parser as data\n",
    "\n",
    "%matplotlib inline"
   ]
  },
  {
   "cell_type": "code",
   "execution_count": 3,
   "metadata": {},
   "outputs": [],
   "source": [
    "# Load data\n",
    "train_docs, test_docs, unused_docs = data.fetch_and_parse(DATA_DIR)"
   ]
  },
  {
   "cell_type": "code",
   "execution_count": 4,
   "metadata": {},
   "outputs": [
    {
     "name": "stdout",
     "output_type": "stream",
     "text": [
      "# Train docs: 7770\n",
      "# Test docs: 3019\n",
      "# Labels: 90\n",
      "# Labels per doc: 1.2356103438687551\n"
     ]
    }
   ],
   "source": [
    "labels = [l for d in (train_docs + test_docs) for l in d.labels]\n",
    "labels_count = len(set(labels))\n",
    "labels_per_doc = len(labels) / (len(train_docs) + len(test_docs))\n",
    "print(\"# Train docs: \" + str(len(train_docs)))\n",
    "print(\"# Test docs: \" + str(len(test_docs)))\n",
    "print(\"# Labels: \" + str(labels_count))\n",
    "print(\"# Labels per doc: \" + str(labels_per_doc))"
   ]
  },
  {
   "cell_type": "code",
   "execution_count": 5,
   "metadata": {},
   "outputs": [
    {
     "data": {
      "image/png": "[encoded data removed]",
      "text/plain": [
       "<matplotlib.figure.Figure at 0x10e996860>"
      ]
     },
     "metadata": {},
     "output_type": "display_data"
    }
   ],
   "source": [
    "pre, ax = plt.subplots(figsize=[12, 6])\n",
    "\n",
    "ax.set_xlabel('# Labels')\n",
    "ax.set_ylabel('# Instances')\n",
    "n, bins, patches = ax.hist([len(d.labels) for d in test_docs])"
   ]
  },
  {
   "cell_type": "code",
   "execution_count": 6,
   "metadata": {},
   "outputs": [
    {
     "name": "stdout",
     "output_type": "stream",
     "text": [
      "Title: BAHIA COCOA REVIEW\n",
      "Labels: ['cocoa']\n",
      "\n",
      "Title: NATIONAL AVERAGE PRICES FOR FARMER-OWNED RESERVE\n",
      "Labels: ['grain', 'wheat', 'corn', 'barley', 'oat', 'sorghum']\n",
      "\n",
      "Title: ARGENTINE 1986/87 GRAIN/OILSEED REGISTRATIONS\n",
      "Labels: ['veg-oil', 'lin-oil', 'soy-oil', 'sun-oil', 'soybean', 'oilseed', 'corn', 'sunseed', 'grain', 'sorghum', 'wheat']\n",
      "\n",
      "Title: CHAMPION PRODUCTS <CH> APPROVES STOCK SPLIT\n",
      "Labels: ['earn']\n",
      "\n",
      "Title: COMPUTER TERMINAL SYSTEMS <CPML> COMPLETES SALE\n",
      "Labels: ['acq']\n",
      "\n",
      "Title: COBANCO INC <CBCO> YEAR NET\n",
      "Labels: ['earn']\n",
      "\n",
      "Title: OHIO MATTRESS <OMT> MAY HAVE LOWER 1ST QTR NET\n",
      "Labels: ['earn', 'acq']\n",
      "\n",
      "Title: AM INTERNATIONAL INC <AM> 2ND QTR JAN 31\n",
      "Labels: ['earn']\n",
      "\n",
      "Title: BROWN-FORMAN INC <BFD> 4TH QTR NET\n",
      "Labels: ['earn']\n",
      "\n",
      "Title: DEAN FOODS <DF> SEES STRONG 4TH QTR EARNINGS\n",
      "Labels: ['earn']\n",
      "\n"
     ]
    }
   ],
   "source": [
    "for doc in train_docs[:10]:\n",
    "    print(\"Title: {}\\nLabels: {}\\n\".format(doc.title, doc.labels))"
   ]
  }
 ],
 "metadata": {
  "kernelspec": {
   "display_name": "Python 3",
   "language": "python",
   "name": "python3"
  },
  "language_info": {
   "codemirror_mode": {
    "name": "ipython",
    "version": 3
   },
   "file_extension": ".py",
   "mimetype": "text/x-python",
   "name": "python",
   "nbconvert_exporter": "python",
   "pygments_lexer": "ipython3",
   "version": "3.6.3"
  }
 },
 "nbformat": 4,
 "nbformat_minor": 2
}
