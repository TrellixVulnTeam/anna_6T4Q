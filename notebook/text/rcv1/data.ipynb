{
 "cells": [
  {
   "cell_type": "code",
   "execution_count": 1,
   "metadata": {},
   "outputs": [],
   "source": [
    "# Add anna to the path\n",
    "import os\n",
    "import sys\n",
    "module_path = os.path.abspath(os.path.join(\"../../../anna\"))\n",
    "if module_path not in sys.path:\n",
    "    sys.path.append(module_path)\n",
    "\n",
    "DATA_DIR = \"../../../data\""
   ]
  },
  {
   "cell_type": "code",
   "execution_count": 2,
   "metadata": {},
   "outputs": [],
   "source": [
    "import matplotlib.pyplot as plt\n",
    "import pandas as pd\n",
    "import numpy as np\n",
    "import dataset.rcv1.parser as data\n",
    "\n",
    "%matplotlib inline"
   ]
  },
  {
   "cell_type": "code",
   "execution_count": 3,
   "metadata": {},
   "outputs": [],
   "source": [
    "# Load data\n",
    "train_docs, test_docs, unused_docs = data.fetch_and_parse(DATA_DIR)"
   ]
  },
  {
   "cell_type": "code",
   "execution_count": 4,
   "metadata": {},
   "outputs": [
    {
     "name": "stdout",
     "output_type": "stream",
     "text": [
      "# Train docs: 781265\n",
      "# Test docs: 23149\n",
      "# Labels: 103\n",
      "# Labels per doc: 3.2407131153858586\n"
     ]
    }
   ],
   "source": [
    "labels = [l for d in (train_docs + test_docs) for l in d.labels]\n",
    "labels_count = len(set(labels))\n",
    "labels_per_doc = len(labels) / (len(train_docs) + len(test_docs))\n",
    "print(\"# Train docs: \" + str(len(train_docs)))\n",
    "print(\"# Test docs: \" + str(len(test_docs)))\n",
    "print(\"# Labels: \" + str(labels_count))\n",
    "print(\"# Labels per doc: \" + str(labels_per_doc))"
   ]
  },
  {
   "cell_type": "code",
   "execution_count": 5,
   "metadata": {},
   "outputs": [
    {
     "data": {
      "image/png": "[encoded data removed]",
      "text/plain": [
       "<matplotlib.figure.Figure at 0x1118cd048>"
      ]
     },
     "metadata": {},
     "output_type": "display_data"
    }
   ],
   "source": [
    "pre, ax = plt.subplots(figsize=[12, 6])\n",
    "\n",
    "ax.set_xlabel('# Labels')\n",
    "ax.set_ylabel('# Instances')\n",
    "n, bins, patches = ax.hist([len(d.labels) for d in test_docs])"
   ]
  },
  {
   "cell_type": "code",
   "execution_count": null,
   "metadata": {},
   "outputs": [],
   "source": []
  }
 ],
 "metadata": {
  "kernelspec": {
   "display_name": "Python 3",
   "language": "python",
   "name": "python3"
  },
  "language_info": {
   "codemirror_mode": {
    "name": "ipython",
    "version": 3
   },
   "file_extension": ".py",
   "mimetype": "text/x-python",
   "name": "python",
   "nbconvert_exporter": "python",
   "pygments_lexer": "ipython3",
   "version": "3.6.3"
  }
 },
 "nbformat": 4,
 "nbformat_minor": 2
}
