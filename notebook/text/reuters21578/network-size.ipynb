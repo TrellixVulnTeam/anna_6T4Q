{
 "cells": [
  {
   "cell_type": "code",
   "execution_count": null,
   "metadata": {},
   "outputs": [],
   "source": [
    "# Add anna to the path\n",
    "import os\n",
    "import sys\n",
    "module_path = os.path.abspath(os.path.join('../../../anna'))\n",
    "if module_path not in sys.path:\n",
    "    sys.path.append(module_path)\n",
    "\n",
    "DATA_DIR = \"../../../data\""
   ]
  },
  {
   "cell_type": "code",
   "execution_count": null,
   "metadata": {},
   "outputs": [],
   "source": [
    "import matplotlib.pyplot as plt\n",
    "import pandas as pd\n",
    "import numpy as np\n",
    "import tensorflow as tf\n",
    "import anna.data.dataset.reuters21578 as reuters\n",
    "import anna.model.premade as models\n",
    "import anna.summary.extract as summary\n",
    "\n",
    "tf.logging.set_verbosity(tf.logging.ERROR)\n",
    "%matplotlib inline\n",
    "\n",
    "# Colors for Plots\n",
    "colors = [(31, 119, 180),  (174, 199, 232), (255, 127, 14),  (255, 187, 120),\n",
    "          (44, 160, 44),   (152, 223, 138), (214, 39, 40),   (255, 152, 150),\n",
    "          (148, 103, 189), (197, 176, 213), (140, 86, 75),   (196, 156, 148),\n",
    "          (227, 119, 194), (247, 182, 210), (127, 127, 127), (199, 199, 199),\n",
    "          (188, 189, 34),  (219, 219, 141), (23, 190, 207),  (158, 218, 229)]\n",
    "\n",
    "for i in range(len(colors)):    \n",
    "    r, g, b = colors[i]    \n",
    "    colors[i] = (r / 255., g / 255., b / 255.)"
   ]
  },
  {
   "cell_type": "code",
   "execution_count": null,
   "metadata": {},
   "outputs": [],
   "source": [
    "# Load data\n",
    "train_docs, test_docs, unused_docs, labels = reuters.fetch_and_parse(DATA_DIR)\n",
    "\n",
    "# Standard Reuters Config\n",
    "val_size = 777\n",
    "epochs = 20\n",
    "shuffle = 10000\n",
    "eval_every = 100"
   ]
  },
  {
   "cell_type": "code",
   "execution_count": null,
   "metadata": {},
   "outputs": [],
   "source": [
    "# Create MLP classifier\n",
    "for layers in range(4):\n",
    "    for size in [512, 1024, 2048, 4096]:\n",
    "        model = models.AVGxBR(DATA_DIR, labels, layers=layers, hidden_size=size,\n",
    "                              name=\"avg_br_{}_{}\".format(layers, size),\n",
    "                              folder_name=\"model-sizes\")\n",
    "\n",
    "        # Train and evaluate\n",
    "        print(\"Model: {}, Layers: {}, Size: {}\".format(model, layers, size))\n",
    "        model.train(train_docs, test_docs,\n",
    "                    val_size=val_size, epochs=epochs, shuffle=shuffle, eval_every=eval_every)\n",
    "\n",
    "    # Delete to save memory\n",
    "    del model"
   ]
  },
  {
   "cell_type": "code",
   "execution_count": null,
   "metadata": {},
   "outputs": [],
   "source": [
    "metrics = summary.parse_all(os.path.join(DATA_DIR, \"model-sizes\"))"
   ]
  },
  {
   "cell_type": "code",
   "execution_count": null,
   "metadata": {},
   "outputs": [],
   "source": [
    "num_epochs = min([len(m[\"val\"][\"perf/accuracy\"]) for m in metrics.values()])\n",
    "remove_first = 0\n",
    "\n",
    "x = range(num_epochs)[remove_first:]\n",
    "for metric_name in [\"perf/accuracy\", \"perf/ebF1\"]:\n",
    "    pre, (ax1, ax2) = plt.subplots(1, 2, figsize=[15, 7])\n",
    "\n",
    "\n",
    "    for train_set, ax in [(\"train\", ax1), (\"val\", ax2)]:\n",
    "        ax.set_xlabel(\"epoch\")\n",
    "        ax.set_ylabel(\"{}/{}\".format(train_set, metric_name[len(\"perf/\"):]))\n",
    "        ax.spines[\"top\"].set_visible(False)\n",
    "        ax.spines[\"bottom\"].set_visible(False)\n",
    "        ax.spines[\"right\"].set_visible(False)\n",
    "        ax.spines[\"left\"].set_visible(False)\n",
    "\n",
    "        for name, metric in metrics.items():\n",
    "            y = metric[train_set][metric_name][remove_first:num_epochs]\n",
    "            y = [m[1] for m in y]\n",
    "            drop = float(name[len(\"avg_br_\"):])\n",
    "            color = str(1. - min([drop * 2 + 0.05, 1.0]))\n",
    "            color = colors[1] if drop == .4 else color\n",
    "            color = colors[3] if drop == .5 else color\n",
    "            ax.plot(x, y, color=color, label=\"rate {}\".format(drop))\n",
    "\n",
    "        ax.legend(loc=4)"
   ]
  }
 ],
 "metadata": {
  "kernelspec": {
   "display_name": "Python 3",
   "language": "python",
   "name": "python3"
  },
  "language_info": {
   "codemirror_mode": {
    "name": "ipython",
    "version": 3
   },
   "file_extension": ".py",
   "mimetype": "text/x-python",
   "name": "python",
   "nbconvert_exporter": "python",
   "pygments_lexer": "ipython3",
   "version": "3.6.4"
  }
 },
 "nbformat": 4,
 "nbformat_minor": 2
}
